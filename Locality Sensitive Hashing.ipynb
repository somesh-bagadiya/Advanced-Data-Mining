{
 "cells": [
  {
   "cell_type": "code",
   "execution_count": 1,
   "id": "7596f97e",
   "metadata": {},
   "outputs": [],
   "source": [
    "import numpy as np\n",
    "import random"
   ]
  },
  {
   "cell_type": "code",
   "execution_count": 2,
   "id": "73214d04",
   "metadata": {},
   "outputs": [
    {
     "name": "stdout",
     "output_type": "stream",
     "text": [
      "[[0 0 1 0 0 0]\n",
      " [1 1 0 0 0 1]\n",
      " [0 0 0 1 1 0]\n",
      " [1 0 1 0 1 0]]\n"
     ]
    }
   ],
   "source": [
    "File_data = np.loadtxt(\"input1.txt\", dtype=int) \n",
    "\n",
    "X = [0]*File_data.shape[1]\n",
    "\n",
    "for i in range(File_data.shape[1]):\n",
    "    X[i] = File_data[:,i]\n",
    "\n",
    "X = np.array(X)\n",
    "print(X)"
   ]
  },
  {
   "cell_type": "code",
   "execution_count": 3,
   "id": "a4603d17",
   "metadata": {},
   "outputs": [],
   "source": [
    "n_of_docs = X.shape[0]\n",
    "n_of_shingles = X.shape[1]\n",
    "\n",
    "rand = [1,2,3,4,5,6]\n",
    "random.seed(1)\n",
    "\n",
    "permutation_matrix = [0]*4\n",
    "\n",
    "for i in range(n_of_docs):\n",
    "    rand = [1,2,3,4,5,6]\n",
    "    random.shuffle(rand)\n",
    "    permutation_matrix[i] = rand.copy()"
   ]
  },
  {
   "cell_type": "code",
   "execution_count": 4,
   "id": "4b4a5a51",
   "metadata": {},
   "outputs": [],
   "source": [
    "permutation_matrix = np.array(permutation_matrix)"
   ]
  },
  {
   "cell_type": "code",
   "execution_count": 5,
   "id": "60a83590",
   "metadata": {},
   "outputs": [
    {
     "name": "stdout",
     "output_type": "stream",
     "text": [
      "Permutation Matrix:\n",
      "[[3 4 6 1 5 2]\n",
      " [1 2 3 5 6 4]\n",
      " [3 6 5 4 1 2]\n",
      " [6 2 3 1 5 4]]\n",
      "\n",
      "Signature Matrix:\n",
      "[[6 2 1 3]\n",
      " [3 1 5 1]\n",
      " [5 2 1 1]\n",
      " [3 2 1 3]]\n"
     ]
    }
   ],
   "source": [
    "# Part 1\n",
    "\n",
    "signature_matrix = np.zeros((n_of_docs, n_of_docs), dtype=int)\n",
    "\n",
    "for i in range(permutation_matrix.shape[0]):\n",
    "    for j in range(X.shape[0]):\n",
    "        temp = permutation_matrix[i] * X[j]\n",
    "        idx = np.where(temp != 0)[0]\n",
    "        signature_matrix[i][j] = min(temp[idx])\n",
    "        \n",
    "        \n",
    "print(\"Permutation Matrix:\")\n",
    "print(permutation_matrix)\n",
    "print(\"\\nSignature Matrix:\")\n",
    "print(signature_matrix)"
   ]
  },
  {
   "cell_type": "code",
   "execution_count": 6,
   "id": "3f4f7fe2",
   "metadata": {},
   "outputs": [
    {
     "name": "stdout",
     "output_type": "stream",
     "text": [
      "col (d1, d2): 0.0\n",
      "col (d1, d3): 0.0\n",
      "col (d1, d4): 0.3333333333333333\n",
      "col (d2, d3): 0.0\n",
      "col (d2, d4): 0.2\n",
      "col (d3, d4): 0.25\n",
      "sim (d1, d2): 0.0\n",
      "sim (d1, d3): 0.0\n",
      "sim (d1, d4): 0.25\n",
      "sim (d2, d3): 0.0\n",
      "sim (d2, d4): 0.25\n",
      "sim (d3, d4): 0.25\n",
      "0.7504320431679077\n"
     ]
    }
   ],
   "source": [
    "with open('output.txt', 'w') as file:\n",
    "    for i in range(signature_matrix.shape[0]):\n",
    "        for j in range(signature_matrix.shape[1]):\n",
    "            file.write(str(signature_matrix[i][j]))\n",
    "            file.write(\" \")\n",
    "        file.write(\"\\n\")\n",
    "        \n",
    "    for i in range(X.shape[0]):\n",
    "        for j in range(i+1,X.shape[0]):\n",
    "            temp = X[i] + X[j]\n",
    "            n1 = np.sum(temp == 1)\n",
    "            n2 = np.sum(temp == 2)\n",
    "            col = float(n2/(n1+n2))\n",
    "            print(\"col (d{}, d{}):\".format(i+1,j+1), col)\n",
    "            file.write(\"{:.2f} \".format(col))\n",
    "    file.write(\"\\n\")\n",
    "            \n",
    "    for i in range(signature_matrix.shape[0]):\n",
    "        for j in range(i+1,signature_matrix.shape[0]):\n",
    "            n = np.sum(signature_matrix[:,i] == signature_matrix[:,j])\n",
    "            sig = float(n/signature_matrix.shape[0])\n",
    "            print(\"sim (d{}, d{}):\".format(i+1,j+1), sig)\n",
    "            file.write(\"{:.2f} \".format(sig))\n",
    "    file.write(\"\\n\")\n",
    "    \n",
    "    probability = 0.6\n",
    "    bands = 10\n",
    "    rows = 4\n",
    "    simi = 1-(1-probability**rows)**bands \n",
    "    print(simi)\n",
    "    file.write(\"{:.2f} \".format(simi))\n",
    "    file.write(\"\\n\")"
   ]
  },
  {
   "cell_type": "code",
   "execution_count": null,
   "id": "64741530",
   "metadata": {},
   "outputs": [],
   "source": []
  }
 ],
 "metadata": {
  "hide_input": false,
  "kernelspec": {
   "display_name": "Python 3 (ipykernel)",
   "language": "python",
   "name": "python3"
  },
  "language_info": {
   "codemirror_mode": {
    "name": "ipython",
    "version": 3
   },
   "file_extension": ".py",
   "mimetype": "text/x-python",
   "name": "python",
   "nbconvert_exporter": "python",
   "pygments_lexer": "ipython3",
   "version": "3.11.5"
  },
  "varInspector": {
   "cols": {
    "lenName": 16,
    "lenType": 16,
    "lenVar": 40
   },
   "kernels_config": {
    "python": {
     "delete_cmd_postfix": "",
     "delete_cmd_prefix": "del ",
     "library": "var_list.py",
     "varRefreshCmd": "print(var_dic_list())"
    },
    "r": {
     "delete_cmd_postfix": ") ",
     "delete_cmd_prefix": "rm(",
     "library": "var_list.r",
     "varRefreshCmd": "cat(var_dic_list()) "
    }
   },
   "types_to_exclude": [
    "module",
    "function",
    "builtin_function_or_method",
    "instance",
    "_Feature"
   ],
   "window_display": false
  }
 },
 "nbformat": 4,
 "nbformat_minor": 5
}

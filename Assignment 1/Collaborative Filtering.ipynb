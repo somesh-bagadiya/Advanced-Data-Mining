{
 "cells": [
  {
   "cell_type": "code",
   "execution_count": 1,
   "id": "f37bef0b",
   "metadata": {},
   "outputs": [],
   "source": [
    "import numpy as np\n",
    "\n",
    "File_data = np.loadtxt(\"input2.txt\", dtype=float) \n",
    "\n",
    "users = File_data"
   ]
  },
  {
   "cell_type": "code",
   "execution_count": 2,
   "id": "fe4f12ab",
   "metadata": {},
   "outputs": [],
   "source": [
    "idx = np.where(users == -1)\n",
    "users[idx] = 0\n",
    "new_users = users[-2:]\n",
    "users = np.delete(users, -2, axis=0)\n",
    "users = np.delete(users, -1, axis=0)"
   ]
  },
  {
   "cell_type": "code",
   "execution_count": 3,
   "id": "899e4520",
   "metadata": {},
   "outputs": [
    {
     "name": "stdout",
     "output_type": "stream",
     "text": [
      "[1. 5. 0. 3. 0. 0. 3. 5.] [5. 4. 0. 0. 3. 2. 1. 0.] [3. 0. 1. 2. 2. 0. 0. 5.] [0. 3. 0. 0. 4. 1. 0. 3.] [2. 4. 3. 0. 0. 2. 2. 0.] [5. 0. 0. 3. 1. 0. 3. 1.] [1. 4. 5. 5. 2. 0. 0. 4.] [2. 1. 0. 0. 4. 5. 1. 0.] [0. 0. 3. 2. 2. 0. 0. 5.] [3. 5. 1. 0. 0. 0. 4. 4.] [0. 0. 2. 1. 0. 2. 0. 3.] [4. 4. 0. 2. 0. 1. 1. 4.] [0. 0. 2. 0. 4. 0. 4. 5.] [0. 5. 3. 3. 2. 0. 1. 1.] [0. 2. 0. 0. 3. 3. 0. 2.] [0. 3. 2. 1. 1. 0. 4. 4.] [1. 5. 1. 2. 0. 4. 0. 4.] [5. 0. 4. 0. 3. 3. 4. 5.] [0. 4. 0. 2. 0. 5. 1. 5.] [2. 5. 1. 1. 5. 3. 0. 4.]\n"
     ]
    }
   ],
   "source": [
    "print(*users)"
   ]
  },
  {
   "cell_type": "code",
   "execution_count": 4,
   "id": "5a3a2177",
   "metadata": {},
   "outputs": [
    {
     "data": {
      "text/plain": [
       "(20, 8)"
      ]
     },
     "execution_count": 4,
     "metadata": {},
     "output_type": "execute_result"
    }
   ],
   "source": [
    "users.shape"
   ]
  },
  {
   "cell_type": "code",
   "execution_count": 5,
   "id": "17d19d1f",
   "metadata": {},
   "outputs": [],
   "source": [
    "def cosine_similarity(user1, user2):\n",
    "    dot_prod = np.dot(user1, user2)\n",
    "    mag_u1 = np.linalg.norm(user1)\n",
    "    mag_u2 = np.linalg.norm(user2)\n",
    "    return dot_prod/(mag_u1*mag_u2)"
   ]
  },
  {
   "cell_type": "code",
   "execution_count": 6,
   "id": "13398b39",
   "metadata": {},
   "outputs": [
    {
     "data": {
      "text/plain": [
       "0.5690055661947031"
      ]
     },
     "execution_count": 6,
     "metadata": {},
     "output_type": "execute_result"
    }
   ],
   "source": [
    "cos_new_users = cosine_similarity(new_users[0], new_users[1])\n",
    "cos_new_users"
   ]
  },
  {
   "cell_type": "code",
   "execution_count": 7,
   "id": "e933c1e4",
   "metadata": {},
   "outputs": [],
   "source": [
    "cos_new_user1 = [0]*20\n",
    "cos_new_user2 = [0]*20\n",
    "for i in range(len(new_users)):\n",
    "    for j in range(len(users)):\n",
    "        if(i==0):\n",
    "            cos_new_user1[j] = cosine_similarity(new_users[i],users[j])\n",
    "        else:\n",
    "            cos_new_user2[j] = cosine_similarity(new_users[i],users[j])"
   ]
  },
  {
   "cell_type": "code",
   "execution_count": 8,
   "id": "5854a6d1",
   "metadata": {},
   "outputs": [
    {
     "name": "stdout",
     "output_type": "stream",
     "text": [
      "Cosine Similarity User1\n",
      "0.5133270023393454 0.38809771283884653 0.8290765131720027 0.46848748060169065 0.4731747551321276 0.540295467239169 0.8228705775884898 0.4509285498390641 0.8553372034476997 0.4427924219100297 0.8794080883518106 0.623778267174584 0.5868974222150601 0.5482304134858554 0.5226512562544318 0.5597733722140106 0.6446583712203042 0.799502686333539 0.6072544792431089 0.6396021490668312\n",
      "\n"
     ]
    }
   ],
   "source": [
    "print(\"Cosine Similarity User1\")\n",
    "print(*cos_new_user1)\n",
    "print()"
   ]
  },
  {
   "cell_type": "code",
   "execution_count": 9,
   "id": "95101145",
   "metadata": {},
   "outputs": [
    {
     "name": "stdout",
     "output_type": "stream",
     "text": [
      "Cosine Similarity User2\n",
      "0.7679722524259536 0.5793040827915708 0.575755061134297 0.8802376962713231 0.5992819034617731 0.3105186718611104 0.8374629801565386 0.4177800966534366 0.662923308044504 0.6839195973828286 0.46028730894916176 0.6555092709250385 0.650090296590003 0.9113223768657671 0.7149000896634314 0.7785901801268591 0.7052972248706761 0.5077367528252131 0.6180232466090964 0.8823915077589174\n",
      "\n"
     ]
    }
   ],
   "source": [
    "print(\"Cosine Similarity User2\")\n",
    "print(*cos_new_user2)\n",
    "print()"
   ]
  },
  {
   "cell_type": "code",
   "execution_count": 10,
   "id": "afdb745d",
   "metadata": {},
   "outputs": [],
   "source": [
    "def normalize_utility_matrix(user):\n",
    "    tot = np.sum(user)\n",
    "    num = np.sum(user != 0)\n",
    "    avg = tot/num\n",
    "    temp = np.zeros(user.shape[0])\n",
    "    for i in range(user.shape[0]):\n",
    "        if(user[i]!=0):\n",
    "            temp[i] = user[i] - avg\n",
    "        else:\n",
    "            temp[i] = user[i]\n",
    "    \n",
    "    return temp"
   ]
  },
  {
   "cell_type": "code",
   "execution_count": 11,
   "id": "f7964abe",
   "metadata": {},
   "outputs": [
    {
     "name": "stdout",
     "output_type": "stream",
     "text": [
      "Utility Matrix usgin mean centering\n",
      "-2.4 1.6 0.0 -0.3999999999999999 0.0 0.0 -0.3999999999999999 1.6\n",
      "2.0 1.0 0.0 0.0 0.0 -1.0 -2.0 0.0\n",
      "0.3999999999999999 0.0 -1.6 -0.6000000000000001 -0.6000000000000001 0.0 0.0 2.4\n",
      "0.0 0.25 0.0 0.0 1.25 -1.75 0.0 0.25\n",
      "-0.6000000000000001 1.4 0.3999999999999999 0.0 0.0 -0.6000000000000001 -0.6000000000000001 0.0\n",
      "2.4 0.0 0.0 0.3999999999999999 -1.6 0.0 0.3999999999999999 -1.6\n",
      "-2.5 0.5 1.5 1.5 -1.5 0.0 0.0 0.5\n",
      "-0.6000000000000001 -1.6 0.0 0.0 1.4 2.4 -1.6 0.0\n",
      "0.0 0.0 0.0 -1.0 -1.0 0.0 0.0 2.0\n",
      "-0.3999999999999999 1.6 -2.4 0.0 0.0 0.0 0.6000000000000001 0.6000000000000001\n",
      "0.0 0.0 0.0 -1.0 0.0 0.0 0.0 1.0\n",
      "1.3333333333333335 1.3333333333333335 0.0 -0.6666666666666665 0.0 -1.6666666666666665 -1.6666666666666665 1.3333333333333335\n",
      "0.0 0.0 -1.75 0.0 0.25 0.0 0.25 1.25\n",
      "0.0 2.5 0.5 0.5 -0.5 0.0 -1.5 -1.5\n",
      "0.0 -0.5 0.0 0.0 0.5 0.5 0.0 -0.5\n",
      "0.0 0.5 -0.5 -1.5 -1.5 0.0 1.5 1.5\n",
      "-1.8333333333333335 2.1666666666666665 -1.8333333333333335 -0.8333333333333335 0.0 1.1666666666666665 0.0 1.1666666666666665\n",
      "1.0 0.0 0.0 0.0 -1.0 -1.0 0.0 1.0\n",
      "0.0 0.6000000000000001 0.0 -1.4 0.0 1.6 -2.4 1.6\n",
      "-1.0 2.0 -2.0 -2.0 2.0 0.0 0.0 1.0\n",
      "-0.6666666666666665 0.0 1.3333333333333335 0.3333333333333335 -1.6666666666666665 -0.6666666666666665 0.0 1.3333333333333335\n",
      "0.0 2.1666666666666665 -0.8333333333333335 -0.8333333333333335 1.1666666666666665 0.0 -1.8333333333333335 0.16666666666666652\n"
     ]
    }
   ],
   "source": [
    "print(\"Utility Matrix usgin mean centering\")\n",
    "\n",
    "norm_users = users.copy()\n",
    "for i in range(users.shape[0]):\n",
    "    norm_users[i] = normalize_utility_matrix(users[i])\n",
    "    print(*norm_users[i])\n",
    "    \n",
    "norm_new_users = new_users.copy()\n",
    "for i in range(new_users.shape[0]):\n",
    "    norm_new_users[i] = normalize_utility_matrix(new_users[i])\n",
    "    print(*norm_new_users[i])"
   ]
  },
  {
   "cell_type": "code",
   "execution_count": 12,
   "id": "afc3269f",
   "metadata": {
    "code_folding": [
     0
    ]
   },
   "outputs": [],
   "source": [
    "# # def mean_exclude_zeros(user):\n",
    "# #     tot = np.sum(user)\n",
    "# #     num = np.sum(user != 0)\n",
    "# #     avg = tot/num\n",
    "# #     return avg\n",
    "    \n",
    "# def pearson_corr_coef(user1, user2):\n",
    "#     num = 0\n",
    "#     avg1 = 0\n",
    "#     avg2 = 0\n",
    "#     user1_shared = []\n",
    "#     user2_shared = []\n",
    "#     for i in range(len(user1)):\n",
    "#         if(user1[i]!=0 and user2[i]!=0):\n",
    "#             user1_shared.insert(0,user1[i])\n",
    "#             user2_shared.insert(0,user2[i])\n",
    "#             avg1+=user1[i]\n",
    "#             avg2+=user2[i]\n",
    "#             num+=1\n",
    "            \n",
    "#     avg1 = avg1/num\n",
    "#     avg2 = avg2/num\n",
    "# #     user1 = np.array(user1_shared)\n",
    "# #     user2 = np.array(user2_shared)\n",
    "    \n",
    "#     print(avg1, user1_shared)\n",
    "#     print(avg2, user2_shared)\n",
    "    \n",
    "#     cov = 0\n",
    "#     for i in range(len(user2_shared)):\n",
    "#         cov += (user1_shared[i] - avg1)*(user2_shared[i] - avg2)\n",
    "    \n",
    "#     std1 = 0\n",
    "#     for i in range(user1.shape[0]):\n",
    "#         std1 += (user1[i] - avg1)**2\n",
    "        \n",
    "#     std2 = 0\n",
    "#     for i in range(user1.shape[0]):\n",
    "#         std2 += (user2[i] - avg2)**2\n",
    "        \n",
    "#     std1 = np.sqrt(std1)\n",
    "#     std2 = np.sqrt(std2)\n",
    "#     print(cov, std1, std2, std1*std2)\n",
    "    \n",
    "#     return round(cov/(std1*std2),2)"
   ]
  },
  {
   "cell_type": "code",
   "execution_count": 13,
   "id": "d9b9f3df",
   "metadata": {
    "code_folding": [
     0
    ],
    "scrolled": true
   },
   "outputs": [],
   "source": [
    "# corr_new_user1 = [0]*20\n",
    "# corr_new_user2 = [0]*20\n",
    "# for i in range(len(new_users)):\n",
    "#     for j in range(len(users)):\n",
    "#         if(i==0):\n",
    "#             corr_new_user1[j] = pearson_corr_coef(new_users[i],users[j])\n",
    "#         else:\n",
    "#             corr_new_user2[j] = pearson_corr_coef(new_users[i],users[j])"
   ]
  },
  {
   "cell_type": "code",
   "execution_count": 14,
   "id": "0b19952e",
   "metadata": {},
   "outputs": [],
   "source": [
    "corr_new_user1 = [0]*20\n",
    "corr_new_user2 = [0]*20\n",
    "for i in range(len(norm_new_users)):\n",
    "    for j in range(len(norm_users)):\n",
    "        if(i==0):\n",
    "            corr_new_user1[j] = cosine_similarity(norm_new_users[i],norm_users[j])\n",
    "        else:\n",
    "            corr_new_user2[j] = cosine_similarity(norm_new_users[i],norm_users[j])"
   ]
  },
  {
   "cell_type": "code",
   "execution_count": 15,
   "id": "33e70a1a",
   "metadata": {},
   "outputs": [
    {
     "name": "stdout",
     "output_type": "stream",
     "text": [
      "Pearson correlation coefficient - User1\n",
      "0.3972306732771373 -0.07784989441615227 0.19479390142306952 -0.09883693657685834 0.2752409412815901 -0.10298573010888747 0.7370277311900887 -0.3591260691136025 0.6030226891555273 -0.25972520189742615 0.2611164839335467 0.1950059797672348 -0.18355431078559406 -0.03629770043203138 -0.6770032003863299 0.39936153191543583 -0.06924696697756431 0.5539117094069972 0.06098367211363068 -0.4061811972299616\n",
      "\n"
     ]
    }
   ],
   "source": [
    "print(\"Pearson correlation coefficient - User1\")\n",
    "print(*corr_new_user1)\n",
    "print()"
   ]
  },
  {
   "cell_type": "code",
   "execution_count": 16,
   "id": "18ddadc8",
   "metadata": {},
   "outputs": [
    {
     "name": "stdout",
     "output_type": "stream",
     "text": [
      "Pearson correlation coefficient - User2\n",
      "0.4357638235215377 0.560448538317805 0.1535895295576609 0.28461447277090673 0.6453979094624195 -0.2905092156810251 -0.2549602877667063 0.09198662110077996 0.0 0.4474129774070991 0.2148344622118298 0.6066706445761549 0.20910451060719676 0.5823490660957641 -0.17722938923964163 -0.14785921742704325 0.5609666377033066 -0.15191090506254998 0.5965193004717246 0.7280501219400901\n",
      "\n"
     ]
    }
   ],
   "source": [
    "print(\"Pearson correlation coefficient - User2\")\n",
    "print(*corr_new_user2)\n",
    "print()"
   ]
  },
  {
   "cell_type": "code",
   "execution_count": 17,
   "id": "24b4f19b",
   "metadata": {},
   "outputs": [],
   "source": [
    "k = 3\n",
    "\n",
    "corr_new_user1_copy = corr_new_user1.copy()\n",
    "corr_new_user1_copy.sort(reverse=True)\n",
    "\n",
    "corr_new_user2_copy = corr_new_user2.copy()\n",
    "corr_new_user2_copy.sort(reverse=True)"
   ]
  },
  {
   "cell_type": "code",
   "execution_count": 18,
   "id": "284d1e82",
   "metadata": {},
   "outputs": [
    {
     "name": "stdout",
     "output_type": "stream",
     "text": [
      "Top 3 highest correlation - User1\n",
      "0.7370277311900887 0.6030226891555273 0.5539117094069972\n",
      "\n"
     ]
    }
   ],
   "source": [
    "print(\"Top 3 highest correlation - User1\")\n",
    "print(*corr_new_user1_copy[:k])\n",
    "print()"
   ]
  },
  {
   "cell_type": "code",
   "execution_count": 19,
   "id": "7f764c49",
   "metadata": {},
   "outputs": [
    {
     "name": "stdout",
     "output_type": "stream",
     "text": [
      "Top 3 highest correlation - User2\n",
      "0.7280501219400901 0.6453979094624195 0.6066706445761549\n",
      "\n"
     ]
    }
   ],
   "source": [
    "print(\"Top 3 highest correlation - User2\")\n",
    "print(*corr_new_user2_copy[:k])\n",
    "print()"
   ]
  },
  {
   "cell_type": "code",
   "execution_count": 20,
   "id": "049d5d33",
   "metadata": {},
   "outputs": [
    {
     "name": "stdout",
     "output_type": "stream",
     "text": [
      "Top 3 highest correlation users for new user1\n",
      "6 8 17\n",
      "\n"
     ]
    }
   ],
   "source": [
    "near_neigh_user1 = [0]*k\n",
    "ni = 0\n",
    "for i in corr_new_user1_copy[:k]:\n",
    "    near_neigh_user1[ni] = np.where(corr_new_user1 == i)[0][0]\n",
    "    ni+=1\n",
    "    \n",
    "print(\"Top 3 highest correlation users for new user1\")\n",
    "print(*near_neigh_user1[:k])\n",
    "print()"
   ]
  },
  {
   "cell_type": "code",
   "execution_count": 21,
   "id": "a80b0956",
   "metadata": {},
   "outputs": [
    {
     "name": "stdout",
     "output_type": "stream",
     "text": [
      "Top 3 highest correlation users for new user2\n",
      "19 4 11\n",
      "\n"
     ]
    }
   ],
   "source": [
    "near_neigh_user2 = [0]*k\n",
    "ni = 0\n",
    "for i in corr_new_user2_copy[:k]:\n",
    "    near_neigh_user2[ni] = np.where(corr_new_user2 == i)[0][0]\n",
    "    ni+=1\n",
    "    \n",
    "print(\"Top 3 highest correlation users for new user2\")\n",
    "print(*near_neigh_user2[:k])\n",
    "print()"
   ]
  },
  {
   "cell_type": "code",
   "execution_count": 22,
   "id": "870a2dc3",
   "metadata": {},
   "outputs": [],
   "source": [
    "def weighted_average(k, new_user, users, near_neigh_user, corr_new_user_results):\n",
    "    missing_rating_index = np.where(new_user == 0)[0]\n",
    "    similar_user_rating = np.zeros([len(missing_rating_index), k])\n",
    "    \n",
    "    for i in range(len(missing_rating_index)):\n",
    "        for j in range(k):\n",
    "            similar_user_rating[i][j] = users[near_neigh_user[j]][missing_rating_index[i]]\n",
    "    \n",
    "    for i in range(len(missing_rating_index)):\n",
    "        numero = np.sum(corr_new_user_results*similar_user_rating[i])\n",
    "        denom = np.sum(corr_new_user_results)\n",
    "        new_user[missing_rating_index[i]] = round(numero/denom,2)\n",
    "    \n",
    "    return new_user"
   ]
  },
  {
   "cell_type": "code",
   "execution_count": 23,
   "id": "30181092",
   "metadata": {},
   "outputs": [
    {
     "name": "stdout",
     "output_type": "stream",
     "text": [
      "Filled all missing ratings for new user1\n",
      "3.0 1.56 5.0 4.0 2.0 3.0 1.17 5.0\n",
      "\n"
     ]
    }
   ],
   "source": [
    "print(\"Filled all missing ratings for new user1\")\n",
    "print(*weighted_average(k, new_users[0].copy(), users, near_neigh_user1, corr_new_user1_copy[:k]))\n",
    "print()"
   ]
  },
  {
   "cell_type": "code",
   "execution_count": 24,
   "id": "0b81ffc7",
   "metadata": {},
   "outputs": [
    {
     "name": "stdout",
     "output_type": "stream",
     "text": [
      "Filled all missing ratings for new user2\n",
      "2.61 5.0 2.0 2.0 4.0 2.06 1.0 3.0\n",
      "\n"
     ]
    }
   ],
   "source": [
    "print(\"Filled all missing ratings for new user2\")\n",
    "print(*weighted_average(k, new_users[1].copy(), users, near_neigh_user2, corr_new_user2_copy[:k]))\n",
    "print()"
   ]
  },
  {
   "cell_type": "code",
   "execution_count": 25,
   "id": "f336b219",
   "metadata": {},
   "outputs": [],
   "source": [
    "users = np.concatenate((users, new_users))"
   ]
  },
  {
   "cell_type": "code",
   "execution_count": 26,
   "id": "3aa65856",
   "metadata": {},
   "outputs": [
    {
     "data": {
      "text/plain": [
       "array([[1., 5., 0., 3., 0., 0., 3., 5.],\n",
       "       [5., 4., 0., 0., 3., 2., 1., 0.],\n",
       "       [3., 0., 1., 2., 2., 0., 0., 5.],\n",
       "       [0., 3., 0., 0., 4., 1., 0., 3.],\n",
       "       [2., 4., 3., 0., 0., 2., 2., 0.],\n",
       "       [5., 0., 0., 3., 1., 0., 3., 1.],\n",
       "       [1., 4., 5., 5., 2., 0., 0., 4.],\n",
       "       [2., 1., 0., 0., 4., 5., 1., 0.],\n",
       "       [0., 0., 3., 2., 2., 0., 0., 5.],\n",
       "       [3., 5., 1., 0., 0., 0., 4., 4.],\n",
       "       [0., 0., 2., 1., 0., 2., 0., 3.],\n",
       "       [4., 4., 0., 2., 0., 1., 1., 4.],\n",
       "       [0., 0., 2., 0., 4., 0., 4., 5.],\n",
       "       [0., 5., 3., 3., 2., 0., 1., 1.],\n",
       "       [0., 2., 0., 0., 3., 3., 0., 2.],\n",
       "       [0., 3., 2., 1., 1., 0., 4., 4.],\n",
       "       [1., 5., 1., 2., 0., 4., 0., 4.],\n",
       "       [5., 0., 4., 0., 3., 3., 4., 5.],\n",
       "       [0., 4., 0., 2., 0., 5., 1., 5.],\n",
       "       [2., 5., 1., 1., 5., 3., 0., 4.],\n",
       "       [3., 0., 5., 4., 2., 3., 0., 5.],\n",
       "       [0., 5., 2., 2., 4., 0., 1., 3.]])"
      ]
     },
     "execution_count": 26,
     "metadata": {},
     "output_type": "execute_result"
    }
   ],
   "source": [
    "users"
   ]
  },
  {
   "cell_type": "code",
   "execution_count": 27,
   "id": "dfdb2eb1",
   "metadata": {},
   "outputs": [
    {
     "name": "stdout",
     "output_type": "stream",
     "text": [
      "Updated Utility Matrix (Rounded to 2 decimal places):\n",
      " [[3.   3.11 5.   4.   2.   3.   1.92 5.  ]\n",
      " [0.48 5.   2.   2.   4.   1.17 1.   3.  ]]\n"
     ]
    }
   ],
   "source": [
    "utility_matrix = users\n",
    "item_matrix = users.T\n",
    "overall_avg = np.mean(utility_matrix[utility_matrix != 0])\n",
    "user_biases = np.nanmean(utility_matrix - overall_avg, axis=1)\n",
    "item_biases = np.nanmean(utility_matrix - overall_avg - np.expand_dims(user_biases, axis=1), axis=0)\n",
    "baseline_predictions = overall_avg + np.expand_dims(user_biases, axis=1) + item_biases\n",
    "deviations = utility_matrix - baseline_predictions\n",
    "item_similarity = np.dot(deviations.T, deviations)\n",
    "item_norms = np.linalg.norm(deviations, axis=0)\n",
    "item_similarity /= np.outer(item_norms, item_norms)\n",
    "k = 3\n",
    "recommendations = []\n",
    "for item_idx in range(item_similarity.shape[0]):\n",
    "    neighbors = np.argsort(item_similarity[item_idx])[:-k-1:-1]\n",
    "    neighbor_ratings = deviations.T[neighbors]\n",
    "    predicted_rating = baseline_predictions[:, item_idx] + np.sum(neighbor_ratings, axis=0) / k\n",
    "    recommendations.append(predicted_rating)\n",
    "\n",
    "recommendations = np.array(recommendations).T\n",
    "updated_utility_matrix = np.where(utility_matrix == 0, recommendations, utility_matrix)\n",
    "updated_utility_matrix_rounded = np.round(updated_utility_matrix, 2)\n",
    "\n",
    "print(\"Updated Utility Matrix (Rounded to 2 decimal places):\\n\", updated_utility_matrix_rounded[-2:])"
   ]
  }
 ],
 "metadata": {
  "hide_input": false,
  "kernelspec": {
   "display_name": "Python 3 (ipykernel)",
   "language": "python",
   "name": "python3"
  },
  "language_info": {
   "codemirror_mode": {
    "name": "ipython",
    "version": 3
   },
   "file_extension": ".py",
   "mimetype": "text/x-python",
   "name": "python",
   "nbconvert_exporter": "python",
   "pygments_lexer": "ipython3",
   "version": "3.11.5"
  },
  "varInspector": {
   "cols": {
    "lenName": 16,
    "lenType": 16,
    "lenVar": 40
   },
   "kernels_config": {
    "python": {
     "delete_cmd_postfix": "",
     "delete_cmd_prefix": "del ",
     "library": "var_list.py",
     "varRefreshCmd": "print(var_dic_list())"
    },
    "r": {
     "delete_cmd_postfix": ") ",
     "delete_cmd_prefix": "rm(",
     "library": "var_list.r",
     "varRefreshCmd": "cat(var_dic_list()) "
    }
   },
   "types_to_exclude": [
    "module",
    "function",
    "builtin_function_or_method",
    "instance",
    "_Feature"
   ],
   "window_display": false
  }
 },
 "nbformat": 4,
 "nbformat_minor": 5
}
